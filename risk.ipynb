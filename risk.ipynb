{
 "cells": [
  {
   "cell_type": "code",
   "execution_count": null,
   "metadata": {},
   "outputs": [],
   "source": [
    "import numpy as np\n",
    "import pandas as pd\n",
    "import yfinance as yf\n",
    "print(\"done importing\")"
   ]
  },
  {
   "cell_type": "code",
   "execution_count": null,
   "metadata": {},
   "outputs": [],
   "source": [
    "# importing data\n",
    "start_date = '2015-01-01'\n",
    "end_date = '2021-01-01'\n",
    "\n",
    "stocks = {\n",
    "    'SPY', \n",
    "    'BHP', 'NPCPF', 'VITFF', \n",
    "    'GOOG', 'ROKU', 'OPRA', \n",
    "    'LVMUY', 'EXPE', 'TUP', \n",
    "    'JPM', 'MET', 'ARES', \n",
    "    'PLD', 'DITTF', 'INN', \n",
    "    'PG', 'AJINY', 'DFIHY', \n",
    "    'UNH', 'LH', 'NVTA', \n",
    "    'NEE', 'TKGSY', 'AZRE', \n",
    "    'XOM', 'VVV', 'AROC', \n",
    "    'UPS', 'CMI', 'ROCK', \n",
    "    'AAPL', 'CAJ', 'APPN'}\n",
    "\n",
    "dict = {} # maps stock ticker string to dataframe of its price data\n",
    "\n",
    "for stock in stocks:\n",
    "    dict[stock] = yf.download(stock, start=start_date, end=end_date)"
   ]
  },
  {
   "cell_type": "code",
   "execution_count": null,
   "metadata": {},
   "outputs": [],
   "source": [
    "# calculating interday returns\n",
    "for stock in stocks:\n",
    "    data = dict[stock]\n",
    "    data['Percent Change'] = data['Close'].pct_change()"
   ]
  },
  {
   "cell_type": "code",
   "execution_count": null,
   "metadata": {},
   "outputs": [],
   "source": [
    "# calculating trailing volatility\n",
    "trading_days = 252\n",
    "window = 30\n",
    "\n",
    "for stock in stocks:\n",
    "    data = dict[stock]\n",
    "    data['Trailing Volatility'] = data['Percent Change'].rolling(window).std()*(trading_days**0.5)"
   ]
  },
  {
   "cell_type": "code",
   "execution_count": null,
   "metadata": {},
   "outputs": [],
   "source": [
    "# calculating trailing beta\n",
    "window = 30\n",
    "\n",
    "SPY_variance = dict['SPY']['Percent Change'].rolling(window).var()\n",
    "\n",
    "for stock in stocks:\n",
    "    data = dict[stock]\n",
    "    data['SPY Covariance'] = data['Percent Change'].rolling(window).cov(dict['SPY']['Percent Change']) # covariance between current stock and SP500\n",
    "    data['Trailing Beta'] = data['SPY Covariance'] / SPY_variance"
   ]
  },
  {
   "cell_type": "code",
   "execution_count": null,
   "metadata": {},
   "outputs": [],
   "source": [
    "# removing unwanted factors from dataframe\n",
    "remove_columns = ['Open', 'High', 'Low', 'Close', 'Adj Close', 'Volume', 'Percent Change', 'SPY Covariance'] # factors to be removed\n",
    "for stock in stocks:\n",
    "    data = dict[stock]\n",
    "    data.drop(remove_columns, inplace=True, axis=1)"
   ]
  },
  {
   "cell_type": "code",
   "execution_count": null,
   "metadata": {},
   "outputs": [],
   "source": [
    "# generating csv and storing them in \\risk_data\n",
    "for stock in stocks:\n",
    "    if(stock != 'SPY'):\n",
    "        dict[stock].to_csv('risk_data\\\\' + stock + '_risk_factors.csv')"
   ]
  }
 ],
 "metadata": {
  "interpreter": {
   "hash": "1c5c1c3f122e29ccde6698060fcfd1b780606b8b96d1437ab2ea9396e20b7aef"
  },
  "kernelspec": {
   "display_name": "Python 3.9.8 64-bit",
   "language": "python",
   "name": "python3"
  },
  "language_info": {
   "codemirror_mode": {
    "name": "ipython",
    "version": 3
   },
   "file_extension": ".py",
   "mimetype": "text/x-python",
   "name": "python",
   "nbconvert_exporter": "python",
   "pygments_lexer": "ipython3",
   "version": "3.9.8"
  },
  "orig_nbformat": 4
 },
 "nbformat": 4,
 "nbformat_minor": 2
}
